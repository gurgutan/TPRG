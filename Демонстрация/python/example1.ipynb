{
 "cells": [
  {
   "cell_type": "markdown",
   "metadata": {},
   "source": [
    "#Операции над двоичными кортежами"
   ]
  },
  {
   "cell_type": "code",
   "execution_count": 2,
   "metadata": {},
   "outputs": [
    {
     "name": "stdout",
     "output_type": "stream",
     "text": [
      "0b11001010101000111111001100010101 0b110\n",
      "bin(6)=0b110\n"
     ]
    }
   ],
   "source": [
    "# Представление в нужной системе исчисления через префикс\n",
    "a=0b011001010101000111111001100010101\n",
    "# Вывод в двоичной системе исчисления через bin\n",
    "print(bin(a), bin(6))\n",
    "print(f\"bin(6)={bin(6)}\")"
   ]
  },
  {
   "cell_type": "code",
   "execution_count": 25,
   "metadata": {},
   "outputs": [
    {
     "name": "stdout",
     "output_type": "stream",
     "text": [
      "8 == 6? False\n",
      "b >> 1 = 3 = 0b11\n",
      "b << 1 = 12 = 0b1100\n"
     ]
    }
   ],
   "source": [
    "a = 8\n",
    "b = 6\n",
    "print(f\"{a} == {b}? {a==b}\") # сравнение\n",
    "\n",
    "# сдвиг влево на 1 = деление на 2\n",
    "print(f\"b >> 1 = {b>>1} = {bin(b>>1)}\")\n",
    "print(f\"b << 1 = {b<<1} = {bin(b<<1)}\")\n"
   ]
  },
  {
   "cell_type": "code",
   "execution_count": 10,
   "metadata": {},
   "outputs": [
    {
     "name": "stdout",
     "output_type": "stream",
     "text": [
      "8  соответствует  0b1000\n",
      "Длинное число c=123456789123456789123456789  bin(c)=0b110011000011110111111011111001011100011101100011001111101111100000001000101111100010101\n"
     ]
    }
   ],
   "source": [
    "# Сдвиг влево на 1 позицию = умножение на степень 2\n",
    "b = 1  # 2^0\n",
    "b<<=3  # 1*2^3\n",
    "print(b,\" соответствует \", bin(b))\n",
    "c = 123456789123456789123456789\n",
    "print(f\"Длинное число c={c}  bin(c)={bin(c)}\")"
   ]
  },
  {
   "cell_type": "code",
   "execution_count": 7,
   "metadata": {},
   "outputs": [
    {
     "name": "stdout",
     "output_type": "stream",
     "text": [
      "241 0b11110001\n"
     ]
    }
   ],
   "source": [
    "b=(255 * 15) % 256  # умножение по модулю 256\n",
    "print(b, bin(b))"
   ]
  },
  {
   "cell_type": "code",
   "execution_count": 17,
   "metadata": {},
   "outputs": [
    {
     "name": "stdout",
     "output_type": "stream",
     "text": [
      "[1, 2, 4, 8, 16, 32, 64, 128, 256] \n",
      " ['0b1', '0b10', '0b100', '0b1000', '0b10000', '0b100000', '0b1000000', '0b10000000', '0b100000000']\n"
     ]
    }
   ],
   "source": [
    "# Степени 2\n",
    "print(\n",
    "    [1 << i for i in range(9)], \n",
    "    \"\\n\",\n",
    "    [bin(1 << i) for i in range(9)]\n",
    ")"
   ]
  },
  {
   "cell_type": "code",
   "execution_count": 22,
   "metadata": {},
   "outputs": [
    {
     "name": "stdout",
     "output_type": "stream",
     "text": [
      "[('0b0', 0), ('0b1', 1), ('0b11', 3), ('0b111', 7), ('0b1111', 15), ('0b11111', 31), ('0b111111', 63), ('0b1111111', 127), ('0b11111111', 255)]\n"
     ]
    }
   ],
   "source": [
    "print(\n",
    "    [\n",
    "        (bin((1<<i)-1), (1<<i) - 1)\n",
    "        for i in range(9)\n",
    "    ]\n",
    "    )"
   ]
  },
  {
   "cell_type": "code",
   "execution_count": 4,
   "metadata": {},
   "outputs": [
    {
     "name": "stdout",
     "output_type": "stream",
     "text": [
      "241 0b11110001\n",
      "241 0b11110001\n"
     ]
    }
   ],
   "source": [
    "b=(255 * 15) & 0b11111111 # умножение по модулю 256 через бинарное умножение на 2^8-1\n",
    "print(b, bin(b))\n",
    "print(255*15%256, bin(255*15%256))"
   ]
  },
  {
   "cell_type": "code",
   "execution_count": 14,
   "metadata": {},
   "outputs": [
    {
     "name": "stdout",
     "output_type": "stream",
     "text": [
      "2^8=0b100000000\n"
     ]
    }
   ],
   "source": [
    "# Возведение 2 в степень сдвигом регистра влево\n",
    "n = 8\n",
    "print(f\"2^{n}={bin(1<<n)}\")\n",
    "# log(n) n - степень, r - количество разрядов в регистре\n",
    "# Стоимость O(log(n)*r^2)"
   ]
  },
  {
   "cell_type": "code",
   "execution_count": 16,
   "metadata": {},
   "outputs": [
    {
     "name": "stdout",
     "output_type": "stream",
     "text": [
      "в числе 0b111000 на позиции [4] бит 1\n"
     ]
    }
   ],
   "source": [
    "# Получение бита числа b с индексом n\n",
    "n = 4 # 4-й бит\n",
    "b = 56 # число 56\n",
    "x = (b & (1 << n)) >> n\n",
    "print(f\"в числе {bin(b)} на позиции [{n}] бит {x}\")"
   ]
  },
  {
   "cell_type": "code",
   "execution_count": 23,
   "metadata": {},
   "outputs": [],
   "source": [
    "def getbit(x,n):\n",
    "    return (x & (1<<n)) >> n"
   ]
  },
  {
   "cell_type": "code",
   "execution_count": 20,
   "metadata": {},
   "outputs": [
    {
     "name": "stdout",
     "output_type": "stream",
     "text": [
      "Обратный порядок: 0110100110010000\n",
      "Прямой порядок:  0b100110010110\n"
     ]
    }
   ],
   "source": [
    "# Извлечение битов из регистра в обратном порядке\n",
    "a = 2454\n",
    "print(\"Обратный порядок: \", end='')\n",
    "for i in range(16):\n",
    "    print(getbit(a,i), end='')\n",
    "print(\"\\nПрямой порядок: \", bin(a))"
   ]
  },
  {
   "cell_type": "code",
   "execution_count": 27,
   "metadata": {},
   "outputs": [
    {
     "name": "stdout",
     "output_type": "stream",
     "text": [
      "0b1000\n"
     ]
    }
   ],
   "source": [
    "# Линейная комбинация битов  \n",
    "x=0b1100\n",
    "a3, a2, a1, a0 = 1, 0, 1, 0\n",
    "\n",
    "p = getbit(x,0) * a0 | getbit(x,1) * a1 << 1 | getbit(x,2) * a2 << 2 | getbit(x,3) * a3 << 3\n",
    "\n",
    "print(bin(p))"
   ]
  },
  {
   "cell_type": "code",
   "execution_count": 28,
   "metadata": {},
   "outputs": [
    {
     "name": "stdout",
     "output_type": "stream",
     "text": [
      "1\n"
     ]
    }
   ],
   "source": [
    "# Новый младший бит\n",
    "x0 = getbit(x,0) & a0 ^ getbit(x,1) & a1 ^ getbit(x,2) & a2 ^ getbit(x,3) & a3\n",
    "print(x0)"
   ]
  },
  {
   "cell_type": "code",
   "execution_count": null,
   "metadata": {},
   "outputs": [],
   "source": []
  },
  {
   "cell_type": "code",
   "execution_count": 32,
   "metadata": {},
   "outputs": [
    {
     "data": {
      "text/plain": [
       "981"
      ]
     },
     "execution_count": 32,
     "metadata": {},
     "output_type": "execute_result"
    }
   ],
   "source": [
    "a = 127\n",
    "b = 213\n",
    "c = (a << 8 | b) & (0b1111111111)\n",
    "c"
   ]
  },
  {
   "cell_type": "code",
   "execution_count": 99,
   "metadata": {},
   "outputs": [
    {
     "data": {
      "text/plain": [
       "'0b1001'"
      ]
     },
     "execution_count": 99,
     "metadata": {},
     "output_type": "execute_result"
    }
   ],
   "source": [
    "x = ((x << 1) | x0) & 0b1111\n",
    "bin(x)"
   ]
  },
  {
   "cell_type": "code",
   "execution_count": 25,
   "metadata": {},
   "outputs": [
    {
     "name": "stdout",
     "output_type": "stream",
     "text": [
      "0b10110 0b101110\n"
     ]
    }
   ],
   "source": [
    "a, b = 0b01011, 0b10111\n",
    "(a1, a2), \n",
    "(a2, a3)\n",
    "print(bin(a<<1), bin(b<<1))"
   ]
  },
  {
   "cell_type": "code",
   "execution_count": null,
   "metadata": {},
   "outputs": [],
   "source": [
    "(b<<1) | countbits(a&b)"
   ]
  },
  {
   "cell_type": "code",
   "execution_count": 4,
   "metadata": {},
   "outputs": [
    {
     "name": "stdout",
     "output_type": "stream",
     "text": [
      "0b1\n"
     ]
    }
   ],
   "source": [
    "R=0b11010101\n",
    "p = 8\n",
    "bit = (R & (1 << (p-1))) >> (p-1)\n",
    "print(bin(bit))\n"
   ]
  },
  {
   "cell_type": "code",
   "execution_count": 11,
   "metadata": {},
   "outputs": [
    {
     "name": "stdout",
     "output_type": "stream",
     "text": [
      "0b1010111\n"
     ]
    }
   ],
   "source": [
    "g = 1\n",
    "R = ((R << 1) | g) & ((1<<8)-1)\n",
    "print(bin(R))"
   ]
  },
  {
   "cell_type": "code",
   "execution_count": 22,
   "metadata": {},
   "outputs": [
    {
     "name": "stdout",
     "output_type": "stream",
     "text": [
      "255\n",
      "255\n",
      "255\n",
      "255\n",
      "255\n",
      "255\n",
      "255\n",
      "255\n",
      "255\n",
      "255\n"
     ]
    }
   ],
   "source": [
    "R = (1<<4253)-1\n",
    "w = 8\n",
    "n = 10\n",
    "for _ in range(n):\n",
    "    t = 0\n",
    "    for i in range(w):\n",
    "        X=(((1<<3296) & R)>>3296) ^ (((1<<2253) & R)>>2253) ^ (((1<<1092) & R)>>1092)\n",
    "        R = R << 1\n",
    "        R = R | X\n",
    "        Y = (R & (1 << (w-1)))>>(w-1)\n",
    "        t = t | (Y<<i)\n",
    "        R = R & ((1<<4253)-1)\n",
    "    print(t)"
   ]
  }
 ],
 "metadata": {
  "kernelspec": {
   "display_name": "Python 3.8.3 64-bit",
   "language": "python",
   "name": "python3"
  },
  "language_info": {
   "codemirror_mode": {
    "name": "ipython",
    "version": 3
   },
   "file_extension": ".py",
   "mimetype": "text/x-python",
   "name": "python",
   "nbconvert_exporter": "python",
   "pygments_lexer": "ipython3",
   "version": "3.8.3"
  },
  "orig_nbformat": 2,
  "vscode": {
   "interpreter": {
    "hash": "9271dc942db219bb6694851cfc44c6a60c393a65a23d2e4baaba291b7197d5f4"
   }
  }
 },
 "nbformat": 4,
 "nbformat_minor": 2
}
