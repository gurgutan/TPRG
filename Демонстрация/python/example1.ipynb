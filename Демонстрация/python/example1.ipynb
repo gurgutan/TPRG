{
 "cells": [
  {
   "cell_type": "markdown",
   "metadata": {},
   "source": [
    "#Операции над двоичными кортежами"
   ]
  },
  {
   "cell_type": "code",
   "execution_count": 2,
   "metadata": {},
   "outputs": [
    {
     "name": "stdout",
     "output_type": "stream",
     "text": [
      "0b11001010101000111111001100010101 0b110\n",
      "bin(6)=0b110\n"
     ]
    }
   ],
   "source": [
    "a=0b011001010101000111111001100010101\n",
    "print(bin(a), bin(6))\n",
    "print(f\"bin(6)={bin(6)}\")"
   ]
  },
  {
   "cell_type": "code",
   "execution_count": 3,
   "metadata": {},
   "outputs": [
    {
     "name": "stdout",
     "output_type": "stream",
     "text": [
      "False\n",
      "3\n",
      "0b11\n"
     ]
    }
   ],
   "source": [
    "b = 6\n",
    "print(a == b) # сравнение\n",
    "b>>=1         # делим на 2\n",
    "print(b)\n",
    "print(bin(b))"
   ]
  },
  {
   "cell_type": "code",
   "execution_count": 5,
   "metadata": {},
   "outputs": [
    {
     "name": "stdout",
     "output_type": "stream",
     "text": [
      "4  соответствует  0b100\n",
      "Длинное число c=123456789123456789123456789  bin(c)=0b110011000011110111111011111001011100011101100011001111101111100000001000101111100010101\n"
     ]
    }
   ],
   "source": [
    "# Умножение на степень 2\n",
    "b = 1  # 2^0\n",
    "b<<=2  # 1*2^2\n",
    "print(b,\" соответствует \", bin(b))\n",
    "c = 123456789123456789123456789\n",
    "print(f\"Длинное число c={c}  bin(c)={bin(c)}\")"
   ]
  },
  {
   "cell_type": "code",
   "execution_count": 7,
   "metadata": {},
   "outputs": [
    {
     "name": "stdout",
     "output_type": "stream",
     "text": [
      "241 0b11110001\n"
     ]
    }
   ],
   "source": [
    "b=(255 * 15) % 256  # умножение по модулю 256\n",
    "print(b, bin(b))"
   ]
  },
  {
   "cell_type": "code",
   "execution_count": 4,
   "metadata": {},
   "outputs": [
    {
     "name": "stdout",
     "output_type": "stream",
     "text": [
      "241 0b11110001\n",
      "241 0b11110001\n"
     ]
    }
   ],
   "source": [
    "b=(255 * 15) & 0b11111111 # умножение по модулю 256 через бинарное умножение\n",
    "print(b, bin(b))\n",
    "print(255*15%256, bin(255*15%256))"
   ]
  },
  {
   "cell_type": "code",
   "execution_count": 14,
   "metadata": {},
   "outputs": [
    {
     "name": "stdout",
     "output_type": "stream",
     "text": [
      "2^8=0b100000000\n"
     ]
    }
   ],
   "source": [
    "# Возведение 2 в степень сдвигом регистра влево\n",
    "n = 8\n",
    "print(f\"2^{n}={bin(1<<n)}\")\n",
    "# log(n) n - степень, r - количество разрядов в регистре\n",
    "# O(log(n)*r^2)"
   ]
  },
  {
   "cell_type": "code",
   "execution_count": 12,
   "metadata": {},
   "outputs": [
    {
     "name": "stdout",
     "output_type": "stream",
     "text": [
      "1 := 0b1\n",
      "2 := 0b10\n",
      "4 := 0b100\n",
      "8 := 0b1000\n",
      "16 := 0b10000\n",
      "32 := 0b100000\n",
      "64 := 0b1000000\n",
      "128 := 0b10000000\n",
      "256 := 0b100000000\n"
     ]
    }
   ],
   "source": [
    "for i in range(9):\n",
    "    print(f\"{1<<i} := {bin(1<<i)}\")"
   ]
  },
  {
   "cell_type": "code",
   "execution_count": 16,
   "metadata": {},
   "outputs": [
    {
     "name": "stdout",
     "output_type": "stream",
     "text": [
      "в числе 0b111000 на позиции [4] бит 1\n"
     ]
    }
   ],
   "source": [
    "# Получение бита с индексом n\n",
    "n = 4\n",
    "b = 56\n",
    "x = (b & (1 << n)) >> n\n",
    "print(f\"в числе {bin(b)} на позиции [{n}] бит {x}\")"
   ]
  },
  {
   "cell_type": "code",
   "execution_count": 19,
   "metadata": {},
   "outputs": [],
   "source": [
    "def getbit(x,n):\n",
    "    return (x & (1<<n)) >> n"
   ]
  },
  {
   "cell_type": "code",
   "execution_count": 20,
   "metadata": {},
   "outputs": [
    {
     "name": "stdout",
     "output_type": "stream",
     "text": [
      "Обратный порядок: 0110100110010000\n",
      "Прямой порядок:  0b100110010110\n"
     ]
    }
   ],
   "source": [
    "# Извлечение битов из регистра в обратном порядке\n",
    "a = 2454\n",
    "print(\"Обратный порядок: \", end='')\n",
    "for i in range(16):\n",
    "    print(getbit(a,i), end='')\n",
    "print(\"\\nПрямой порядок: \", bin(a))"
   ]
  },
  {
   "cell_type": "code",
   "execution_count": 21,
   "metadata": {},
   "outputs": [
    {
     "name": "stdout",
     "output_type": "stream",
     "text": [
      "0b1000\n"
     ]
    }
   ],
   "source": [
    "# Линейная комбинация битов  \n",
    "x=0b1100\n",
    "a3, a2, a1, a0 = 1, 0, 1, 0\n",
    "\n",
    "p = getbit(x,0)*a0 | getbit(x,1)*a1 << 1 | getbit(x,2)*a2 << 2 | getbit(x,3)*a3 << 3\n",
    "print(bin(p))"
   ]
  },
  {
   "cell_type": "code",
   "execution_count": 23,
   "metadata": {},
   "outputs": [
    {
     "name": "stdout",
     "output_type": "stream",
     "text": [
      "1\n"
     ]
    }
   ],
   "source": [
    "# Новый младший бит\n",
    "x0 = getbit(x,0) & a0 ^ getbit(x,1) & a1 ^ getbit(x,2) & a2 ^ getbit(x,3) & a3\n",
    "print(x0)"
   ]
  },
  {
   "cell_type": "code",
   "execution_count": 12,
   "metadata": {},
   "outputs": [
    {
     "data": {
      "text/plain": [
       "'0b10000'"
      ]
     },
     "execution_count": 12,
     "metadata": {},
     "output_type": "execute_result"
    }
   ],
   "source": [
    "# Новый элемент ПСП\n",
    "bin((x << 1) & 0b10000)"
   ]
  },
  {
   "cell_type": "code",
   "execution_count": 99,
   "metadata": {},
   "outputs": [
    {
     "data": {
      "text/plain": [
       "'0b1001'"
      ]
     },
     "execution_count": 99,
     "metadata": {},
     "output_type": "execute_result"
    }
   ],
   "source": [
    "x = ((x << 1) | x0) & 0b1111\n",
    "bin(x)"
   ]
  },
  {
   "cell_type": "code",
   "execution_count": 25,
   "metadata": {},
   "outputs": [
    {
     "name": "stdout",
     "output_type": "stream",
     "text": [
      "0b10110 0b101110\n"
     ]
    }
   ],
   "source": [
    "a, b = 0b01011, 0b10111\n",
    "(a1, a2), \n",
    "(a2, a3)\n",
    "print(bin(a<<1), bin(b<<1))"
   ]
  }
 ],
 "metadata": {
  "kernelspec": {
   "display_name": "Python 3.8.3 64-bit",
   "language": "python",
   "name": "python3"
  },
  "language_info": {
   "codemirror_mode": {
    "name": "ipython",
    "version": 3
   },
   "file_extension": ".py",
   "mimetype": "text/x-python",
   "name": "python",
   "nbconvert_exporter": "python",
   "pygments_lexer": "ipython3",
   "version": "3.8.3"
  },
  "orig_nbformat": 2,
  "vscode": {
   "interpreter": {
    "hash": "9271dc942db219bb6694851cfc44c6a60c393a65a23d2e4baaba291b7197d5f4"
   }
  }
 },
 "nbformat": 4,
 "nbformat_minor": 2
}
