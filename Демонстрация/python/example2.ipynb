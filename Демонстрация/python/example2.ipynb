{
 "cells": [
  {
   "cell_type": "code",
   "execution_count": 7,
   "metadata": {},
   "outputs": [
    {
     "name": "stdout",
     "output_type": "stream",
     "text": [
      "-2000100 -1000100 -2000100 -2000100 -1000100 -1000000 -2000100 -2000100 -1000100 -2000100 -1000100 -2000100 -1000000 -1000100 -2000100 -1000100 -2000100 -1000000 -2000200 -1000000 -2000100 -2000100 -1000100 -2000100 -1000100 -2000100 -1000000 -2000200 -1000000 -4000200 -1000100 -3000200 -1000000 -2000100 -2000200 -1000000 -1000100 -2000100 -2000100 -2000100 -2000100 -2000100 -1000100 -2000100 -2000100 -2000100 -2000200 -1000000 -2000100 -2000100 -2000200 -1000000 -2000100 -2000200 -2000100 -2000100 -1000000 -2000200 -2000100 -2000100 -2000100 -1000100 -2000100 -3000100 -2000200 -2000100 -2000100 -1000000 -2000200 -1000000 -2000100 -1000100 -2000100 -1000100 -2000100 -1000000 -2000100 -1000100 -1000100 -2000100 -1000000 -2000100 -1000100 -2000100 -1000100 -2000100 -1000000 -2000200 -1000000 -1000100 -2000100 -1000000 -2000200 -1000000 -2000100 -1000100 -2000100 -1000100 -2000100 -1000000 "
     ]
    }
   ],
   "source": [
    "# О вреде использования таймера как источника энтропии\n",
    "import time\n",
    "import math\n",
    "\n",
    "int.ma\n",
    "d = 0\n",
    "last_time = time.time_ns()\n",
    "for i in range(100):\n",
    "    for j in range(1000):\n",
    "        x = math.sin(i)+math.cos(i)+math.tanh(i)\n",
    "    curr_time = time.time_ns()\n",
    "    d = last_time - curr_time\n",
    "    last_time = curr_time\n",
    "    print(d, end=' ')"
   ]
  }
 ],
 "metadata": {
  "interpreter": {
   "hash": "ae7f53e8dd80b02e0612f72962c8cfdaf11ca92c079bdaddd1482a56edc14533"
  },
  "kernelspec": {
   "display_name": "Python 3.8.3 64-bit",
   "language": "python",
   "name": "python3"
  },
  "language_info": {
   "codemirror_mode": {
    "name": "ipython",
    "version": 3
   },
   "file_extension": ".py",
   "mimetype": "text/x-python",
   "name": "python",
   "nbconvert_exporter": "python",
   "pygments_lexer": "ipython3",
   "version": "3.8.3"
  },
  "orig_nbformat": 4
 },
 "nbformat": 4,
 "nbformat_minor": 2
}
