{
 "cells": [
  {
   "cell_type": "code",
   "execution_count": 3,
   "metadata": {},
   "outputs": [
    {
     "name": "stdout",
     "output_type": "stream",
     "text": [
      "1000100 0 1000000 1000100 1000100 0 1000000 1000100 1000000 1000100 0 1000000 1000100 1000100 4000200 0 1000000 1000100 1000100 0 1000000 1000100 1000000 2000100 1000100 1000100 1000000 1000100 1000000 1000100 1000000 1000100 43002500 2000100 1000000 1000100 1000000 1000100 1000100 1000000 1000100 0 1000000 1000100 1000000 0 1000100 1000100 2000100 2000100 1000000 1000100 1000100 2000100 1000000 1000100 1000000 1000100 2000100 1000100 1000000 1000100 2000100 2000100 1000100 1000000 1000100 1000100 1000000 0 1000100 1000000 1000100 1000000 2000200 2000100 3000100 1000100 1000100 1000000 1000100 2000100 5000300 1000000 8000500 1000000 1000100 0 1000100 1000000 1000100 1000000 1000100 0 1000000 1000100 1000100 0 1000000 1000100 "
     ]
    }
   ],
   "source": [
    "# О вреде использования таймера как источника энтропии\n",
    "import time\n",
    "import math\n",
    "\n",
    "d = 0\n",
    "last_time = time.time_ns()\n",
    "for i in range(100):\n",
    "    # Далее идут вычисления (любые)\n",
    "    for j in range(1000):\n",
    "        x = math.sin(i)+math.cos(i)+math.tanh(i)\n",
    "    curr_time = time.time_ns()\n",
    "    # Время затраченное на вычисление итерации\n",
    "    d = curr_time - last_time\n",
    "    last_time = curr_time\n",
    "    \n",
    "    print(d, end=' ')"
   ]
  }
 ],
 "metadata": {
  "kernelspec": {
   "display_name": "Python 3.8.3 64-bit",
   "language": "python",
   "name": "python3"
  },
  "language_info": {
   "codemirror_mode": {
    "name": "ipython",
    "version": 3
   },
   "file_extension": ".py",
   "mimetype": "text/x-python",
   "name": "python",
   "nbconvert_exporter": "python",
   "pygments_lexer": "ipython3",
   "version": "3.8.3"
  },
  "orig_nbformat": 4,
  "vscode": {
   "interpreter": {
    "hash": "9271dc942db219bb6694851cfc44c6a60c393a65a23d2e4baaba291b7197d5f4"
   }
  }
 },
 "nbformat": 4,
 "nbformat_minor": 2
}
